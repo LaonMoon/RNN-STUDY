{
  "nbformat": 4,
  "nbformat_minor": 0,
  "metadata": {
    "colab": {
      "name": "hg-9-2",
      "provenance": [],
      "collapsed_sections": []
    },
    "kernelspec": {
      "name": "python3",
      "display_name": "Python 3"
    },
    "language_info": {
      "name": "python"
    }
  },
  "cells": [
    {
      "cell_type": "markdown",
      "source": [
        "#### 순환신경망으로 IMDB 리뷰 분류하기\n",
        "\n",
        "*   혼자 공부하는 머신러닝+딥러닝 09-2 예제\n",
        "\n"
      ],
      "metadata": {
        "id": "rTO4PmMGi_y-"
      }
    },
    {
      "cell_type": "markdown",
      "source": [
        "##### imdb 데이터셋 준비"
      ],
      "metadata": {
        "id": "HzcjFDNtl4iv"
      }
    },
    {
      "cell_type": "code",
      "execution_count": null,
      "metadata": {
        "id": "ZOYobp4MdNW2",
        "colab": {
          "base_uri": "https://localhost:8080/"
        },
        "outputId": "c7a20ebb-5e47-4561-8c20-fbd8222a6197"
      },
      "outputs": [
        {
          "output_type": "stream",
          "name": "stdout",
          "text": [
            "train_input.shape : (25000,) test_input.shape : (25000,)\n"
          ]
        }
      ],
      "source": [
        "from tensorflow.keras.datasets import imdb\n",
        "#전체 데이터셋에서 가장 자주 등장하는 단어 500개만 사용(나오지 않는 단어는 2로 변환됨.)\n",
        "(train_input, train_target), (test_input, test_target) = imdb.load_data(num_words=500)\n",
        "print(\"train_input.shape :\", train_input.shape, \"test_input.shape :\", test_input.shape)"
      ]
    },
    {
      "cell_type": "code",
      "source": [
        "print(len(train_input[0]))\n",
        "print(len(train_input[1]))"
      ],
      "metadata": {
        "colab": {
          "base_uri": "https://localhost:8080/"
        },
        "id": "F1gr0iE9jnk2",
        "outputId": "49f54587-0f04-40ad-c2e1-ce3e8f2d5b0b"
      },
      "execution_count": null,
      "outputs": [
        {
          "output_type": "stream",
          "name": "stdout",
          "text": [
            "218\n",
            "189\n"
          ]
        }
      ]
    },
    {
      "cell_type": "code",
      "source": [
        "print(train_input[0])"
      ],
      "metadata": {
        "colab": {
          "base_uri": "https://localhost:8080/"
        },
        "id": "TICDwp3ykCu7",
        "outputId": "1278138a-7310-4264-e19b-9334dd71a435"
      },
      "execution_count": null,
      "outputs": [
        {
          "output_type": "stream",
          "name": "stdout",
          "text": [
            "[1, 14, 22, 16, 43, 2, 2, 2, 2, 65, 458, 2, 66, 2, 4, 173, 36, 256, 5, 25, 100, 43, 2, 112, 50, 2, 2, 9, 35, 480, 284, 5, 150, 4, 172, 112, 167, 2, 336, 385, 39, 4, 172, 2, 2, 17, 2, 38, 13, 447, 4, 192, 50, 16, 6, 147, 2, 19, 14, 22, 4, 2, 2, 469, 4, 22, 71, 87, 12, 16, 43, 2, 38, 76, 15, 13, 2, 4, 22, 17, 2, 17, 12, 16, 2, 18, 2, 5, 62, 386, 12, 8, 316, 8, 106, 5, 4, 2, 2, 16, 480, 66, 2, 33, 4, 130, 12, 16, 38, 2, 5, 25, 124, 51, 36, 135, 48, 25, 2, 33, 6, 22, 12, 215, 28, 77, 52, 5, 14, 407, 16, 82, 2, 8, 4, 107, 117, 2, 15, 256, 4, 2, 7, 2, 5, 2, 36, 71, 43, 2, 476, 26, 400, 317, 46, 7, 4, 2, 2, 13, 104, 88, 4, 381, 15, 297, 98, 32, 2, 56, 26, 141, 6, 194, 2, 18, 4, 226, 22, 21, 134, 476, 26, 480, 5, 144, 30, 2, 18, 51, 36, 28, 224, 92, 25, 104, 4, 226, 65, 16, 38, 2, 88, 12, 16, 283, 5, 16, 2, 113, 103, 32, 15, 16, 2, 19, 178, 32]\n"
          ]
        }
      ]
    },
    {
      "cell_type": "code",
      "source": [
        "# train set과 validation set 나누기\n",
        "from sklearn.model_selection import train_test_split\n",
        "\n",
        "train_input, val_input, train_target, val_target = train_test_split(train_input, train_target, test_size=0.2)"
      ],
      "metadata": {
        "id": "FRJYhR3gkIQe"
      },
      "execution_count": null,
      "outputs": []
    },
    {
      "cell_type": "code",
      "source": [
        "# 리뷰의 길이 확인\n",
        "import numpy as np\n",
        "lengths = np.array([len(x) for x in train_input])\n",
        "print(lengths)"
      ],
      "metadata": {
        "colab": {
          "base_uri": "https://localhost:8080/"
        },
        "id": "mHN4i6-8kZkX",
        "outputId": "49f29c62-b8f9-4e63-d6d7-2afa67f2c556"
      },
      "execution_count": null,
      "outputs": [
        {
          "output_type": "stream",
          "name": "stdout",
          "text": [
            "[350 146 341 ...  63 140 311]\n"
          ]
        }
      ]
    },
    {
      "cell_type": "code",
      "source": [
        "# 히스토그램\n",
        "import matplotlib.pyplot as plt\n",
        "plt.hist(lengths)\n",
        "plt.xlabel('length')\n",
        "plt.ylabel('frequency')\n",
        "plt.show()"
      ],
      "metadata": {
        "colab": {
          "base_uri": "https://localhost:8080/",
          "height": 279
        },
        "id": "wmHhAGtXkvEp",
        "outputId": "8f444fc8-8f1b-48af-a074-bca4a94fdc56"
      },
      "execution_count": null,
      "outputs": [
        {
          "output_type": "display_data",
          "data": {
            "image/png": "[encoded data removed]",
            "text/plain": [
              "<Figure size 432x288 with 1 Axes>"
            ]
          },
          "metadata": {
            "needs_background": "light"
          }
        }
      ]
    },
    {
      "cell_type": "code",
      "source": [
        "# 리뷰 길이 100으로 맞추기\n",
        "from tensorflow.keras.preprocessing.sequence import pad_sequences\n",
        "train_seq = pad_sequences(train_input, maxlen=100)\n",
        "val_seq = pad_sequences(val_input, maxlen=100)\n",
        "print(train_seq.shape)\n",
        "print(val_seq.shape)"
      ],
      "metadata": {
        "colab": {
          "base_uri": "https://localhost:8080/"
        },
        "id": "NSKDLVwNlUgE",
        "outputId": "9a63437a-ea09-4883-9fa3-3a4a6049853e"
      },
      "execution_count": null,
      "outputs": [
        {
          "output_type": "stream",
          "name": "stdout",
          "text": [
            "(20000, 100)\n",
            "(5000, 100)\n"
          ]
        }
      ]
    },
    {
      "cell_type": "markdown",
      "source": [
        "##### 순환신경망 만들기"
      ],
      "metadata": {
        "id": "NTchQgbrl2cc"
      }
    },
    {
      "cell_type": "code",
      "source": [
        "from tensorflow import keras\n",
        "model = keras.Sequential()\n",
        "\n",
        "# 순환층의 뉴런 8개, 리뷰 길이 100, 500종류의 단어\n",
        "model.add(keras.layers.SimpleRNN(8, input_shape=(100,500)))\n",
        "# 이진 분류, 뉴런 1개, 시그모이드 활성화 함수\n",
        "model.add(keras.layers.Dense(1, activation='sigmoid'))"
      ],
      "metadata": {
        "id": "ickZVAWQli4C"
      },
      "execution_count": null,
      "outputs": []
    },
    {
      "cell_type": "markdown",
      "source": [
        "원-핫 인코딩 사용"
      ],
      "metadata": {
        "id": "YYoYFROJnBMV"
      }
    },
    {
      "cell_type": "code",
      "source": [
        "train_onehot = keras.utils.to_categorical(train_seq)\n",
        "print(train_onehot.shape)"
      ],
      "metadata": {
        "colab": {
          "base_uri": "https://localhost:8080/"
        },
        "id": "KsO8ImehmxkR",
        "outputId": "8e48442b-e4ef-464f-e4dc-a09271aaf279"
      },
      "execution_count": null,
      "outputs": [
        {
          "output_type": "stream",
          "name": "stdout",
          "text": [
            "(20000, 100, 500)\n"
          ]
        }
      ]
    },
    {
      "cell_type": "code",
      "source": [
        "val_onehot = keras.utils.to_categorical(val_seq)\n",
        "model.summary()"
      ],
      "metadata": {
        "colab": {
          "base_uri": "https://localhost:8080/"
        },
        "id": "CNtFSa5unN0V",
        "outputId": "d9d9cee7-5876-48fe-aeec-5cc7e6e698ad"
      },
      "execution_count": null,
      "outputs": [
        {
          "output_type": "stream",
          "name": "stdout",
          "text": [
            "Model: \"sequential\"\n",
            "_________________________________________________________________\n",
            " Layer (type)                Output Shape              Param #   \n",
            "=================================================================\n",
            " simple_rnn (SimpleRNN)      (None, 8)                 4072      \n",
            "                                                                 \n",
            " dense (Dense)               (None, 1)                 9         \n",
            "                                                                 \n",
            "=================================================================\n",
            "Total params: 4,081\n",
            "Trainable params: 4,081\n",
            "Non-trainable params: 0\n",
            "_________________________________________________________________\n"
          ]
        }
      ]
    },
    {
      "cell_type": "code",
      "source": [
        "rmsprop = keras.optimizers.RMSprop(learning_rate=1e-4)\n",
        "model.compile(optimizer=rmsprop, loss='binary_crossentropy', metrics=['accuracy'])\n",
        "checkpoint_cb = keras.callbacks.ModelCheckpoint('best-simplernn-model.h5')\n",
        "earlt_stopping_cb = keras.callbacks.EarlyStopping(patience=3, restore_best_weights=True)\n",
        "history = model.fit(train_onehot, train_target, epochs=100, batch_size=64, validation_data=(val_onehot, val_target), callbacks=[checkpoint_cb,earlt_stopping_cb])"
      ],
      "metadata": {
        "colab": {
          "base_uri": "https://localhost:8080/"
        },
        "id": "abqzxacUnZ3B",
        "outputId": "4924d0fa-5fdb-407a-8b7c-e77a39e48dd0"
      },
      "execution_count": null,
      "outputs": [
        {
          "output_type": "stream",
          "name": "stdout",
          "text": [
            "Epoch 1/100\n",
            "313/313 [==============================] - 12s 36ms/step - loss: 0.6984 - accuracy: 0.5053 - val_loss: 0.6956 - val_accuracy: 0.5134\n",
            "Epoch 2/100\n",
            "313/313 [==============================] - 16s 52ms/step - loss: 0.6928 - accuracy: 0.5182 - val_loss: 0.6921 - val_accuracy: 0.5240\n",
            "Epoch 3/100\n",
            "313/313 [==============================] - 20s 65ms/step - loss: 0.6900 - accuracy: 0.5348 - val_loss: 0.6905 - val_accuracy: 0.5332\n",
            "Epoch 4/100\n",
            "313/313 [==============================] - 21s 66ms/step - loss: 0.6875 - accuracy: 0.5440 - val_loss: 0.6883 - val_accuracy: 0.5496\n",
            "Epoch 5/100\n",
            "313/313 [==============================] - 12s 39ms/step - loss: 0.6848 - accuracy: 0.5551 - val_loss: 0.6867 - val_accuracy: 0.5524\n",
            "Epoch 6/100\n",
            "313/313 [==============================] - 11s 35ms/step - loss: 0.6820 - accuracy: 0.5662 - val_loss: 0.6846 - val_accuracy: 0.5604\n",
            "Epoch 7/100\n",
            "313/313 [==============================] - 12s 38ms/step - loss: 0.6785 - accuracy: 0.5756 - val_loss: 0.6819 - val_accuracy: 0.5616\n",
            "Epoch 8/100\n",
            "313/313 [==============================] - 11s 35ms/step - loss: 0.6723 - accuracy: 0.5889 - val_loss: 0.6702 - val_accuracy: 0.5954\n",
            "Epoch 9/100\n",
            "313/313 [==============================] - 11s 35ms/step - loss: 0.6564 - accuracy: 0.6232 - val_loss: 0.6518 - val_accuracy: 0.6310\n",
            "Epoch 10/100\n",
            "313/313 [==============================] - 11s 35ms/step - loss: 0.6383 - accuracy: 0.6518 - val_loss: 0.6336 - val_accuracy: 0.6590\n",
            "Epoch 11/100\n",
            "313/313 [==============================] - 11s 35ms/step - loss: 0.6184 - accuracy: 0.6747 - val_loss: 0.6131 - val_accuracy: 0.6838\n",
            "Epoch 12/100\n",
            "313/313 [==============================] - 11s 35ms/step - loss: 0.5972 - accuracy: 0.6970 - val_loss: 0.5964 - val_accuracy: 0.6996\n",
            "Epoch 13/100\n",
            "313/313 [==============================] - 11s 35ms/step - loss: 0.5787 - accuracy: 0.7129 - val_loss: 0.5803 - val_accuracy: 0.7104\n",
            "Epoch 14/100\n",
            "313/313 [==============================] - 11s 36ms/step - loss: 0.5632 - accuracy: 0.7237 - val_loss: 0.5649 - val_accuracy: 0.7208\n",
            "Epoch 15/100\n",
            "313/313 [==============================] - 11s 35ms/step - loss: 0.5500 - accuracy: 0.7337 - val_loss: 0.5544 - val_accuracy: 0.7304\n",
            "Epoch 16/100\n",
            "313/313 [==============================] - 11s 35ms/step - loss: 0.5381 - accuracy: 0.7405 - val_loss: 0.5427 - val_accuracy: 0.7396\n",
            "Epoch 17/100\n",
            "313/313 [==============================] - 11s 36ms/step - loss: 0.5282 - accuracy: 0.7486 - val_loss: 0.5358 - val_accuracy: 0.7400\n",
            "Epoch 18/100\n",
            "313/313 [==============================] - 11s 36ms/step - loss: 0.5186 - accuracy: 0.7563 - val_loss: 0.5276 - val_accuracy: 0.7456\n",
            "Epoch 19/100\n",
            "313/313 [==============================] - 11s 35ms/step - loss: 0.5106 - accuracy: 0.7598 - val_loss: 0.5203 - val_accuracy: 0.7506\n",
            "Epoch 20/100\n",
            "313/313 [==============================] - 11s 35ms/step - loss: 0.5025 - accuracy: 0.7666 - val_loss: 0.5149 - val_accuracy: 0.7546\n",
            "Epoch 21/100\n",
            "313/313 [==============================] - 11s 35ms/step - loss: 0.4951 - accuracy: 0.7721 - val_loss: 0.5069 - val_accuracy: 0.7570\n",
            "Epoch 22/100\n",
            "313/313 [==============================] - 11s 35ms/step - loss: 0.4891 - accuracy: 0.7757 - val_loss: 0.5017 - val_accuracy: 0.7626\n",
            "Epoch 23/100\n",
            "313/313 [==============================] - 11s 35ms/step - loss: 0.4830 - accuracy: 0.7796 - val_loss: 0.4994 - val_accuracy: 0.7646\n",
            "Epoch 24/100\n",
            "313/313 [==============================] - 11s 36ms/step - loss: 0.4774 - accuracy: 0.7822 - val_loss: 0.4963 - val_accuracy: 0.7714\n",
            "Epoch 25/100\n",
            "313/313 [==============================] - 11s 35ms/step - loss: 0.4723 - accuracy: 0.7864 - val_loss: 0.4889 - val_accuracy: 0.7702\n",
            "Epoch 26/100\n",
            "313/313 [==============================] - 11s 35ms/step - loss: 0.4673 - accuracy: 0.7911 - val_loss: 0.4858 - val_accuracy: 0.7726\n",
            "Epoch 27/100\n",
            "313/313 [==============================] - 11s 35ms/step - loss: 0.4629 - accuracy: 0.7919 - val_loss: 0.4847 - val_accuracy: 0.7742\n",
            "Epoch 28/100\n",
            "313/313 [==============================] - 11s 35ms/step - loss: 0.4581 - accuracy: 0.7948 - val_loss: 0.4834 - val_accuracy: 0.7758\n",
            "Epoch 29/100\n",
            "313/313 [==============================] - 11s 35ms/step - loss: 0.4551 - accuracy: 0.7982 - val_loss: 0.4780 - val_accuracy: 0.7770\n",
            "Epoch 30/100\n",
            "313/313 [==============================] - 11s 35ms/step - loss: 0.4516 - accuracy: 0.7989 - val_loss: 0.4776 - val_accuracy: 0.7794\n",
            "Epoch 31/100\n",
            "313/313 [==============================] - 12s 38ms/step - loss: 0.4482 - accuracy: 0.8022 - val_loss: 0.4740 - val_accuracy: 0.7820\n",
            "Epoch 32/100\n",
            "313/313 [==============================] - 11s 34ms/step - loss: 0.4447 - accuracy: 0.8034 - val_loss: 0.4718 - val_accuracy: 0.7838\n",
            "Epoch 33/100\n",
            "313/313 [==============================] - 11s 34ms/step - loss: 0.4424 - accuracy: 0.8054 - val_loss: 0.4717 - val_accuracy: 0.7844\n",
            "Epoch 34/100\n",
            "313/313 [==============================] - 10s 34ms/step - loss: 0.4399 - accuracy: 0.8083 - val_loss: 0.4702 - val_accuracy: 0.7846\n",
            "Epoch 35/100\n",
            "313/313 [==============================] - 11s 34ms/step - loss: 0.4368 - accuracy: 0.8079 - val_loss: 0.4693 - val_accuracy: 0.7872\n",
            "Epoch 36/100\n",
            "313/313 [==============================] - 10s 34ms/step - loss: 0.4349 - accuracy: 0.8081 - val_loss: 0.4698 - val_accuracy: 0.7858\n",
            "Epoch 37/100\n",
            "313/313 [==============================] - 11s 34ms/step - loss: 0.4323 - accuracy: 0.8109 - val_loss: 0.4672 - val_accuracy: 0.7878\n",
            "Epoch 38/100\n",
            "313/313 [==============================] - 11s 34ms/step - loss: 0.4303 - accuracy: 0.8123 - val_loss: 0.4659 - val_accuracy: 0.7878\n",
            "Epoch 39/100\n",
            "313/313 [==============================] - 11s 34ms/step - loss: 0.4281 - accuracy: 0.8132 - val_loss: 0.4653 - val_accuracy: 0.7890\n",
            "Epoch 40/100\n",
            "313/313 [==============================] - 11s 34ms/step - loss: 0.4261 - accuracy: 0.8152 - val_loss: 0.4653 - val_accuracy: 0.7906\n",
            "Epoch 41/100\n",
            "313/313 [==============================] - 11s 34ms/step - loss: 0.4246 - accuracy: 0.8169 - val_loss: 0.4647 - val_accuracy: 0.7914\n",
            "Epoch 42/100\n",
            "313/313 [==============================] - 11s 34ms/step - loss: 0.4224 - accuracy: 0.8166 - val_loss: 0.4666 - val_accuracy: 0.7886\n",
            "Epoch 43/100\n",
            "313/313 [==============================] - 10s 33ms/step - loss: 0.4209 - accuracy: 0.8195 - val_loss: 0.4641 - val_accuracy: 0.7926\n",
            "Epoch 44/100\n",
            "313/313 [==============================] - 10s 33ms/step - loss: 0.4187 - accuracy: 0.8205 - val_loss: 0.4636 - val_accuracy: 0.7916\n",
            "Epoch 45/100\n",
            "313/313 [==============================] - 11s 34ms/step - loss: 0.4174 - accuracy: 0.8208 - val_loss: 0.4689 - val_accuracy: 0.7858\n",
            "Epoch 46/100\n",
            "313/313 [==============================] - 10s 34ms/step - loss: 0.4157 - accuracy: 0.8209 - val_loss: 0.4685 - val_accuracy: 0.7880\n",
            "Epoch 47/100\n",
            "313/313 [==============================] - 11s 34ms/step - loss: 0.4152 - accuracy: 0.8203 - val_loss: 0.4631 - val_accuracy: 0.7920\n",
            "Epoch 48/100\n",
            "313/313 [==============================] - 11s 34ms/step - loss: 0.4135 - accuracy: 0.8220 - val_loss: 0.4633 - val_accuracy: 0.7920\n",
            "Epoch 49/100\n",
            "313/313 [==============================] - 10s 34ms/step - loss: 0.4118 - accuracy: 0.8241 - val_loss: 0.4642 - val_accuracy: 0.7914\n",
            "Epoch 50/100\n",
            "313/313 [==============================] - 11s 34ms/step - loss: 0.4100 - accuracy: 0.8262 - val_loss: 0.4652 - val_accuracy: 0.7896\n"
          ]
        }
      ]
    },
    {
      "cell_type": "code",
      "source": [
        "plt.plot(history.history['loss'])\n",
        "plt.plot(history.history['val_loss'])\n",
        "plt.xlabel('epoch')\n",
        "plt.ylabel('loss')\n",
        "plt.legend(['train','val'])\n",
        "plt.show()"
      ],
      "metadata": {
        "colab": {
          "base_uri": "https://localhost:8080/",
          "height": 279
        },
        "id": "zAV7uhg6oM3b",
        "outputId": "b9c36108-7c4e-4b6d-e3cd-e046f7fe538b"
      },
      "execution_count": null,
      "outputs": [
        {
          "output_type": "display_data",
          "data": {
            "image/png": "[encoded data removed]",
            "text/plain": [
              "<Figure size 432x288 with 1 Axes>"
            ]
          },
          "metadata": {
            "needs_background": "light"
          }
        }
      ]
    },
    {
      "cell_type": "markdown",
      "source": [
        "단어 임베딩 사용(word_embedding)"
      ],
      "metadata": {
        "id": "Z0CtqnUFoj7u"
      }
    },
    {
      "cell_type": "code",
      "source": [
        "model2 = keras.Sequential()\n",
        "#500개의 토큰을 크기가 16인 벡터로 변경.\n",
        "model2.add(keras.layers.Embedding(500,16,input_length=100))\n",
        "model2.add(keras.layers.SimpleRNN(8))\n",
        "model2.add(keras.layers.Dense(1, activation='sigmoid'))\n",
        "\n",
        "model2.summary()"
      ],
      "metadata": {
        "colab": {
          "base_uri": "https://localhost:8080/"
        },
        "id": "pCEvybjJod5L",
        "outputId": "4a64488e-b5df-4f52-bd4a-bf27cbde8865"
      },
      "execution_count": null,
      "outputs": [
        {
          "output_type": "stream",
          "name": "stdout",
          "text": [
            "Model: \"sequential_4\"\n",
            "_________________________________________________________________\n",
            " Layer (type)                Output Shape              Param #   \n",
            "=================================================================\n",
            " embedding_2 (Embedding)     (None, 100, 16)           8000      \n",
            "                                                                 \n",
            " simple_rnn_3 (SimpleRNN)    (None, 8)                 200       \n",
            "                                                                 \n",
            " dense_3 (Dense)             (None, 1)                 9         \n",
            "                                                                 \n",
            "=================================================================\n",
            "Total params: 8,209\n",
            "Trainable params: 8,209\n",
            "Non-trainable params: 0\n",
            "_________________________________________________________________\n"
          ]
        }
      ]
    },
    {
      "cell_type": "code",
      "source": [
        "rmsprop = keras.optimizers.RMSprop(learning_rate=1e-4)\n",
        "model2.compile(optimizer=rmsprop, loss='binary_crossentropy', metrics=['accuracy'])\n",
        "checkpoint_cb = keras.callbacks.ModelCheckpoint('best-simplernn-model.h5')\n",
        "earlt_stopping_cb = keras.callbacks.EarlyStopping(patience=3, restore_best_weights=True)\n",
        "history = model2.fit(train_seq, train_target, epochs=100, batch_size=64, validation_data=(val_seq, val_target), callbacks=[checkpoint_cb,earlt_stopping_cb])"
      ],
      "metadata": {
        "colab": {
          "base_uri": "https://localhost:8080/"
        },
        "id": "CEjcQYHirkMD",
        "outputId": "ad1c98f9-5943-41d2-ba84-b6a59f9df5fe"
      },
      "execution_count": null,
      "outputs": [
        {
          "output_type": "stream",
          "name": "stdout",
          "text": [
            "Epoch 1/100\n",
            "313/313 [==============================] - 7s 17ms/step - loss: 0.6927 - accuracy: 0.5174 - val_loss: 0.6901 - val_accuracy: 0.5304\n",
            "Epoch 2/100\n",
            "313/313 [==============================] - 6s 19ms/step - loss: 0.6740 - accuracy: 0.6040 - val_loss: 0.6558 - val_accuracy: 0.6556\n",
            "Epoch 3/100\n",
            "313/313 [==============================] - 5s 17ms/step - loss: 0.6330 - accuracy: 0.6907 - val_loss: 0.6199 - val_accuracy: 0.7120\n",
            "Epoch 4/100\n",
            "313/313 [==============================] - 5s 17ms/step - loss: 0.6030 - accuracy: 0.7266 - val_loss: 0.5987 - val_accuracy: 0.7310\n",
            "Epoch 5/100\n",
            "313/313 [==============================] - 5s 17ms/step - loss: 0.5810 - accuracy: 0.7417 - val_loss: 0.5815 - val_accuracy: 0.7340\n",
            "Epoch 6/100\n",
            "313/313 [==============================] - 5s 17ms/step - loss: 0.5648 - accuracy: 0.7499 - val_loss: 0.5641 - val_accuracy: 0.7518\n",
            "Epoch 7/100\n",
            "313/313 [==============================] - 5s 17ms/step - loss: 0.5518 - accuracy: 0.7548 - val_loss: 0.5592 - val_accuracy: 0.7426\n",
            "Epoch 8/100\n",
            "313/313 [==============================] - 5s 17ms/step - loss: 0.5389 - accuracy: 0.7624 - val_loss: 0.5431 - val_accuracy: 0.7522\n",
            "Epoch 9/100\n",
            "313/313 [==============================] - 5s 17ms/step - loss: 0.5265 - accuracy: 0.7681 - val_loss: 0.5353 - val_accuracy: 0.7582\n",
            "Epoch 10/100\n",
            "313/313 [==============================] - 5s 17ms/step - loss: 0.5171 - accuracy: 0.7721 - val_loss: 0.5238 - val_accuracy: 0.7644\n",
            "Epoch 11/100\n",
            "313/313 [==============================] - 5s 17ms/step - loss: 0.5110 - accuracy: 0.7731 - val_loss: 0.5158 - val_accuracy: 0.7666\n",
            "Epoch 12/100\n",
            "313/313 [==============================] - 5s 17ms/step - loss: 0.5032 - accuracy: 0.7764 - val_loss: 0.5066 - val_accuracy: 0.7738\n",
            "Epoch 13/100\n",
            "313/313 [==============================] - 5s 17ms/step - loss: 0.4936 - accuracy: 0.7822 - val_loss: 0.5051 - val_accuracy: 0.7710\n",
            "Epoch 14/100\n",
            "313/313 [==============================] - 5s 17ms/step - loss: 0.4876 - accuracy: 0.7857 - val_loss: 0.4997 - val_accuracy: 0.7720\n",
            "Epoch 15/100\n",
            "313/313 [==============================] - 5s 17ms/step - loss: 0.4820 - accuracy: 0.7878 - val_loss: 0.4966 - val_accuracy: 0.7732\n",
            "Epoch 16/100\n",
            "313/313 [==============================] - 5s 17ms/step - loss: 0.4764 - accuracy: 0.7906 - val_loss: 0.4953 - val_accuracy: 0.7714\n",
            "Epoch 17/100\n",
            "313/313 [==============================] - 5s 17ms/step - loss: 0.4728 - accuracy: 0.7915 - val_loss: 0.4932 - val_accuracy: 0.7730\n",
            "Epoch 18/100\n",
            "313/313 [==============================] - 6s 19ms/step - loss: 0.4687 - accuracy: 0.7937 - val_loss: 0.4916 - val_accuracy: 0.7750\n",
            "Epoch 19/100\n",
            "313/313 [==============================] - 5s 17ms/step - loss: 0.4652 - accuracy: 0.7962 - val_loss: 0.4901 - val_accuracy: 0.7770\n",
            "Epoch 20/100\n",
            "313/313 [==============================] - 5s 17ms/step - loss: 0.4597 - accuracy: 0.8000 - val_loss: 0.4845 - val_accuracy: 0.7770\n",
            "Epoch 21/100\n",
            "313/313 [==============================] - 5s 17ms/step - loss: 0.4587 - accuracy: 0.7984 - val_loss: 0.4850 - val_accuracy: 0.7780\n",
            "Epoch 22/100\n",
            "313/313 [==============================] - 5s 17ms/step - loss: 0.4540 - accuracy: 0.8019 - val_loss: 0.4968 - val_accuracy: 0.7684\n",
            "Epoch 23/100\n",
            "313/313 [==============================] - 5s 17ms/step - loss: 0.4523 - accuracy: 0.8026 - val_loss: 0.4817 - val_accuracy: 0.7804\n",
            "Epoch 24/100\n",
            "313/313 [==============================] - 5s 17ms/step - loss: 0.4480 - accuracy: 0.8066 - val_loss: 0.4871 - val_accuracy: 0.7768\n",
            "Epoch 25/100\n",
            "313/313 [==============================] - 5s 17ms/step - loss: 0.4462 - accuracy: 0.8061 - val_loss: 0.4795 - val_accuracy: 0.7780\n",
            "Epoch 26/100\n",
            "313/313 [==============================] - 5s 17ms/step - loss: 0.4440 - accuracy: 0.8075 - val_loss: 0.4772 - val_accuracy: 0.7820\n",
            "Epoch 27/100\n",
            "313/313 [==============================] - 5s 17ms/step - loss: 0.4406 - accuracy: 0.8098 - val_loss: 0.4798 - val_accuracy: 0.7788\n",
            "Epoch 28/100\n",
            "313/313 [==============================] - 5s 17ms/step - loss: 0.4388 - accuracy: 0.8106 - val_loss: 0.4764 - val_accuracy: 0.7824\n",
            "Epoch 29/100\n",
            "313/313 [==============================] - 5s 17ms/step - loss: 0.4365 - accuracy: 0.8112 - val_loss: 0.4759 - val_accuracy: 0.7836\n",
            "Epoch 30/100\n",
            "313/313 [==============================] - 5s 17ms/step - loss: 0.4336 - accuracy: 0.8135 - val_loss: 0.4739 - val_accuracy: 0.7838\n",
            "Epoch 31/100\n",
            "313/313 [==============================] - 5s 17ms/step - loss: 0.4325 - accuracy: 0.8142 - val_loss: 0.4802 - val_accuracy: 0.7798\n",
            "Epoch 32/100\n",
            "313/313 [==============================] - 5s 17ms/step - loss: 0.4303 - accuracy: 0.8164 - val_loss: 0.4867 - val_accuracy: 0.7766\n",
            "Epoch 33/100\n",
            "313/313 [==============================] - 5s 17ms/step - loss: 0.4281 - accuracy: 0.8180 - val_loss: 0.4809 - val_accuracy: 0.7786\n"
          ]
        }
      ]
    },
    {
      "cell_type": "code",
      "source": [
        "plt.plot(history.history['loss'])\n",
        "plt.plot(history.history['val_loss'])\n",
        "plt.xlabel('epoch')\n",
        "plt.ylabel('loss')\n",
        "plt.legend(['train','val'])\n",
        "plt.show()"
      ],
      "metadata": {
        "colab": {
          "base_uri": "https://localhost:8080/",
          "height": 279
        },
        "id": "-zWXUx_Fr332",
        "outputId": "b0bdb12a-e19d-44e2-eab0-f5aa9fec96fc"
      },
      "execution_count": null,
      "outputs": [
        {
          "output_type": "display_data",
          "data": {
            "image/png": "[encoded data removed]",
            "text/plain": [
              "<Figure size 432x288 with 1 Axes>"
            ]
          },
          "metadata": {
            "needs_background": "light"
          }
        }
      ]
    },
    {
      "cell_type": "code",
      "source": [
        "!git remote add origin https://github.com/LaonMoon/RNN-STUDY.git\n",
        "!git branch -M master\n",
        "!git push -u origin master"
      ],
      "metadata": {
        "colab": {
          "base_uri": "https://localhost:8080/"
        },
        "id": "ClA0iSU6xZSk",
        "outputId": "734df623-6944-4a70-b404-0339abd1e082"
      },
      "execution_count": 5,
      "outputs": [
        {
          "output_type": "stream",
          "name": "stdout",
          "text": [
            "fatal: not a git repository (or any of the parent directories): .git\n",
            "fatal: not a git repository (or any of the parent directories): .git\n",
            "fatal: not a git repository (or any of the parent directories): .git\n"
          ]
        }
      ]
    }
  ]
}