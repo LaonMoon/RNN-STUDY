{
  "nbformat": 4,
  "nbformat_minor": 0,
  "metadata": {
    "colab": {
      "name": "hg-9-3",
      "provenance": [],
      "collapsed_sections": [],
      "authorship_tag": "ABX9TyOPNfbfF5AekDGNxLYJiPzn",
      "include_colab_link": true
    },
    "kernelspec": {
      "name": "python3",
      "display_name": "Python 3"
    },
    "language_info": {
      "name": "python"
    },
    "accelerator": "GPU"
  },
  "cells": [
    {
      "cell_type": "markdown",
      "metadata": {
        "id": "view-in-github",
        "colab_type": "text"
      },
      "source": [
        "<a href=\"https://colab.research.google.com/github/LaonMoon/RNN-STUDY/blob/master/hg_9_3.ipynb\" target=\"_parent\"><img src=\"https://colab.research.google.com/assets/colab-badge.svg\" alt=\"Open In Colab\"/></a>"
      ]
    },
    {
      "cell_type": "markdown",
      "source": [
        "#### LSTM과 GRU 셀\n",
        "\n",
        "*   혼자 공부하는 머신러닝+딥러닝 09-3 예제\n",
        "\n",
        "\n"
      ],
      "metadata": {
        "id": "nwvTQNbNc2kS"
      }
    },
    {
      "cell_type": "markdown",
      "source": [
        "##### LSTM 신경망 훈련하기"
      ],
      "metadata": {
        "id": "1_vzCHc_dNeN"
      }
    },
    {
      "cell_type": "code",
      "execution_count": 1,
      "metadata": {
        "colab": {
          "base_uri": "https://localhost:8080/"
        },
        "id": "rMCusI9XczRn",
        "outputId": "f3a4cadd-e16d-442c-f7a6-8dc30c5eb8ea"
      },
      "outputs": [
        {
          "output_type": "stream",
          "name": "stdout",
          "text": [
            "Downloading data from https://storage.googleapis.com/tensorflow/tf-keras-datasets/imdb.npz\n",
            "17465344/17464789 [==============================] - 1s 0us/step\n",
            "17473536/17464789 [==============================] - 1s 0us/step\n"
          ]
        }
      ],
      "source": [
        "from tensorflow.keras.datasets import imdb\n",
        "from sklearn.model_selection import train_test_split\n",
        "\n",
        "(train_input, train_target), (test_input, test_target) = imdb.load_data(num_words=500)\n",
        "train_input, val_input, train_target, val_target = train_test_split(train_input, train_target, test_size=0.2)"
      ]
    },
    {
      "cell_type": "code",
      "source": [
        "from tensorflow.keras.preprocessing.sequence import pad_sequences\n",
        "train_seq = pad_sequences(train_input, maxlen=100)\n",
        "val_seq = pad_sequences(val_input, maxlen=100)"
      ],
      "metadata": {
        "id": "JonPbS6uds9P"
      },
      "execution_count": 2,
      "outputs": []
    },
    {
      "cell_type": "code",
      "source": [
        "from tensorflow import keras\n",
        "model = keras.Sequential()\n",
        "model.add(keras.layers.Embedding(500,16, input_length=100))\n",
        "model.add(keras.layers.LSTM(8))\n",
        "model.add(keras.layers.Dense(1, activation='sigmoid'))\n",
        "model.summary()"
      ],
      "metadata": {
        "colab": {
          "base_uri": "https://localhost:8080/"
        },
        "id": "C0Uz866deHHW",
        "outputId": "a2135476-8c02-44bf-95b3-e7440d16a138"
      },
      "execution_count": 3,
      "outputs": [
        {
          "output_type": "stream",
          "name": "stdout",
          "text": [
            "Model: \"sequential\"\n",
            "_________________________________________________________________\n",
            " Layer (type)                Output Shape              Param #   \n",
            "=================================================================\n",
            " embedding (Embedding)       (None, 100, 16)           8000      \n",
            "                                                                 \n",
            " lstm (LSTM)                 (None, 8)                 800       \n",
            "                                                                 \n",
            " dense (Dense)               (None, 1)                 9         \n",
            "                                                                 \n",
            "=================================================================\n",
            "Total params: 8,809\n",
            "Trainable params: 8,809\n",
            "Non-trainable params: 0\n",
            "_________________________________________________________________\n"
          ]
        }
      ]
    },
    {
      "cell_type": "code",
      "source": [
        "rmsprop = keras.optimizers.RMSprop(learning_rate=1e-4)\n",
        "model.compile(optimizer=rmsprop,loss='binary_crossentropy', metrics=['accuracy'])\n",
        "checkpoint_cb = keras.callbacks.ModelCheckpoint('best-lstm-model.h5')\n",
        "early_stopping_cb = keras.callbacks.EarlyStopping(patience=3, restore_best_weights=True)\n",
        "history = model.fit(train_seq, train_target, epochs=100, batch_size=64, validation_data=(val_seq, val_target), callbacks=[checkpoint_cb, early_stopping_cb])"
      ],
      "metadata": {
        "colab": {
          "base_uri": "https://localhost:8080/"
        },
        "id": "VzkoIX3XedMw",
        "outputId": "59c7bd90-68b1-4a49-be86-440f8f2a515c"
      },
      "execution_count": 4,
      "outputs": [
        {
          "output_type": "stream",
          "name": "stdout",
          "text": [
            "Epoch 1/100\n",
            "313/313 [==============================] - 13s 22ms/step - loss: 0.6924 - accuracy: 0.5447 - val_loss: 0.6913 - val_accuracy: 0.5904\n",
            "Epoch 2/100\n",
            "313/313 [==============================] - 6s 21ms/step - loss: 0.6888 - accuracy: 0.6217 - val_loss: 0.6856 - val_accuracy: 0.6466\n",
            "Epoch 3/100\n",
            "313/313 [==============================] - 6s 21ms/step - loss: 0.6728 - accuracy: 0.6557 - val_loss: 0.6463 - val_accuracy: 0.6956\n",
            "Epoch 4/100\n",
            "313/313 [==============================] - 7s 22ms/step - loss: 0.6095 - accuracy: 0.7113 - val_loss: 0.5868 - val_accuracy: 0.7134\n",
            "Epoch 5/100\n",
            "313/313 [==============================] - 9s 28ms/step - loss: 0.5709 - accuracy: 0.7318 - val_loss: 0.5628 - val_accuracy: 0.7308\n",
            "Epoch 6/100\n",
            "313/313 [==============================] - 8s 26ms/step - loss: 0.5462 - accuracy: 0.7487 - val_loss: 0.5430 - val_accuracy: 0.7496\n",
            "Epoch 7/100\n",
            "313/313 [==============================] - 8s 25ms/step - loss: 0.5249 - accuracy: 0.7623 - val_loss: 0.5239 - val_accuracy: 0.7564\n",
            "Epoch 8/100\n",
            "313/313 [==============================] - 8s 24ms/step - loss: 0.5046 - accuracy: 0.7723 - val_loss: 0.5130 - val_accuracy: 0.7624\n",
            "Epoch 9/100\n",
            "313/313 [==============================] - 8s 25ms/step - loss: 0.4872 - accuracy: 0.7829 - val_loss: 0.4919 - val_accuracy: 0.7736\n",
            "Epoch 10/100\n",
            "313/313 [==============================] - 8s 25ms/step - loss: 0.4723 - accuracy: 0.7887 - val_loss: 0.4802 - val_accuracy: 0.7772\n",
            "Epoch 11/100\n",
            "313/313 [==============================] - 8s 26ms/step - loss: 0.4599 - accuracy: 0.7958 - val_loss: 0.4717 - val_accuracy: 0.7818\n",
            "Epoch 12/100\n",
            "313/313 [==============================] - 8s 25ms/step - loss: 0.4504 - accuracy: 0.8003 - val_loss: 0.4648 - val_accuracy: 0.7852\n",
            "Epoch 13/100\n",
            "313/313 [==============================] - 7s 22ms/step - loss: 0.4427 - accuracy: 0.8058 - val_loss: 0.4608 - val_accuracy: 0.7884\n",
            "Epoch 14/100\n",
            "313/313 [==============================] - 6s 21ms/step - loss: 0.4372 - accuracy: 0.8057 - val_loss: 0.4602 - val_accuracy: 0.7870\n",
            "Epoch 15/100\n",
            "313/313 [==============================] - 7s 21ms/step - loss: 0.4320 - accuracy: 0.8084 - val_loss: 0.4534 - val_accuracy: 0.7914\n",
            "Epoch 16/100\n",
            "313/313 [==============================] - 7s 22ms/step - loss: 0.4283 - accuracy: 0.8091 - val_loss: 0.4520 - val_accuracy: 0.7890\n",
            "Epoch 17/100\n",
            "313/313 [==============================] - 8s 25ms/step - loss: 0.4249 - accuracy: 0.8100 - val_loss: 0.4525 - val_accuracy: 0.7922\n",
            "Epoch 18/100\n",
            "313/313 [==============================] - 8s 25ms/step - loss: 0.4223 - accuracy: 0.8107 - val_loss: 0.4498 - val_accuracy: 0.7916\n",
            "Epoch 19/100\n",
            "313/313 [==============================] - 7s 23ms/step - loss: 0.4192 - accuracy: 0.8131 - val_loss: 0.4470 - val_accuracy: 0.7916\n",
            "Epoch 20/100\n",
            "313/313 [==============================] - 8s 24ms/step - loss: 0.4175 - accuracy: 0.8130 - val_loss: 0.4465 - val_accuracy: 0.7910\n",
            "Epoch 21/100\n",
            "313/313 [==============================] - 7s 22ms/step - loss: 0.4148 - accuracy: 0.8143 - val_loss: 0.4531 - val_accuracy: 0.7844\n",
            "Epoch 22/100\n",
            "313/313 [==============================] - 7s 22ms/step - loss: 0.4133 - accuracy: 0.8142 - val_loss: 0.4458 - val_accuracy: 0.7916\n",
            "Epoch 23/100\n",
            "313/313 [==============================] - 7s 23ms/step - loss: 0.4113 - accuracy: 0.8162 - val_loss: 0.4447 - val_accuracy: 0.7930\n",
            "Epoch 24/100\n",
            "313/313 [==============================] - 7s 22ms/step - loss: 0.4099 - accuracy: 0.8149 - val_loss: 0.4433 - val_accuracy: 0.7944\n",
            "Epoch 25/100\n",
            "313/313 [==============================] - 7s 22ms/step - loss: 0.4086 - accuracy: 0.8155 - val_loss: 0.4429 - val_accuracy: 0.7950\n",
            "Epoch 26/100\n",
            "313/313 [==============================] - 7s 23ms/step - loss: 0.4073 - accuracy: 0.8180 - val_loss: 0.4425 - val_accuracy: 0.7920\n",
            "Epoch 27/100\n",
            "313/313 [==============================] - 8s 25ms/step - loss: 0.4061 - accuracy: 0.8170 - val_loss: 0.4425 - val_accuracy: 0.7930\n",
            "Epoch 28/100\n",
            "313/313 [==============================] - 7s 23ms/step - loss: 0.4055 - accuracy: 0.8174 - val_loss: 0.4416 - val_accuracy: 0.7942\n",
            "Epoch 29/100\n",
            "313/313 [==============================] - 8s 25ms/step - loss: 0.4041 - accuracy: 0.8173 - val_loss: 0.4437 - val_accuracy: 0.7946\n",
            "Epoch 30/100\n",
            "313/313 [==============================] - 7s 23ms/step - loss: 0.4031 - accuracy: 0.8184 - val_loss: 0.4415 - val_accuracy: 0.7944\n",
            "Epoch 31/100\n",
            "313/313 [==============================] - 7s 23ms/step - loss: 0.4022 - accuracy: 0.8190 - val_loss: 0.4414 - val_accuracy: 0.7938\n",
            "Epoch 32/100\n",
            "313/313 [==============================] - 7s 22ms/step - loss: 0.4009 - accuracy: 0.8183 - val_loss: 0.4406 - val_accuracy: 0.7942\n",
            "Epoch 33/100\n",
            "313/313 [==============================] - 7s 21ms/step - loss: 0.4003 - accuracy: 0.8189 - val_loss: 0.4433 - val_accuracy: 0.7950\n",
            "Epoch 34/100\n",
            "313/313 [==============================] - 7s 24ms/step - loss: 0.3992 - accuracy: 0.8186 - val_loss: 0.4449 - val_accuracy: 0.7924\n",
            "Epoch 35/100\n",
            "313/313 [==============================] - 8s 25ms/step - loss: 0.3983 - accuracy: 0.8223 - val_loss: 0.4406 - val_accuracy: 0.7962\n"
          ]
        }
      ]
    },
    {
      "cell_type": "code",
      "source": [
        "import matplotlib.pyplot as plt\n",
        "plt.plot(history.history['loss'])\n",
        "plt.plot(history.history['val_loss'])\n",
        "plt.xlabel('epoch')\n",
        "plt.ylabel('loss')\n",
        "plt.legend(['train','val'])\n",
        "plt.show()"
      ],
      "metadata": {
        "colab": {
          "base_uri": "https://localhost:8080/",
          "height": 279
        },
        "id": "88FNdfgWfLVN",
        "outputId": "2a043657-1cb4-4811-b0da-48a320f2c7f8"
      },
      "execution_count": 5,
      "outputs": [
        {
          "output_type": "display_data",
          "data": {
            "image/png": "[encoded data removed]",
            "text/plain": [
              "<Figure size 432x288 with 1 Axes>"
            ]
          },
          "metadata": {
            "needs_background": "light"
          }
        }
      ]
    },
    {
      "cell_type": "markdown",
      "source": [
        "##### 2개의 순환층을 연결하기"
      ],
      "metadata": {
        "id": "gkBiza-K16u6"
      }
    },
    {
      "cell_type": "code",
      "source": [
        "model3 = keras.Sequential()\n",
        "\n",
        "model3.add(keras.layers.Embedding(500, 16, input_length=100))\n",
        "#모든 타임스텝의 hidden state를 출력하기 위해서 return_sequences=True\n",
        "model3.add(keras.layers.LSTM(8, dropout=0.3, return_sequences=True))\n",
        "model3.add(keras.layers.LSTM(8, dropout=0.3))\n",
        "model3.add(keras.layers.Dense(1, activation='sigmoid'))\n",
        "model3.summary()"
      ],
      "metadata": {
        "colab": {
          "base_uri": "https://localhost:8080/"
        },
        "id": "_DSizdgyfoS7",
        "outputId": "5153b879-a352-4d90-bacb-18f6bd7d9c81"
      },
      "execution_count": 6,
      "outputs": [
        {
          "output_type": "stream",
          "name": "stdout",
          "text": [
            "Model: \"sequential_1\"\n",
            "_________________________________________________________________\n",
            " Layer (type)                Output Shape              Param #   \n",
            "=================================================================\n",
            " embedding_1 (Embedding)     (None, 100, 16)           8000      \n",
            "                                                                 \n",
            " lstm_1 (LSTM)               (None, 100, 8)            800       \n",
            "                                                                 \n",
            " lstm_2 (LSTM)               (None, 8)                 544       \n",
            "                                                                 \n",
            " dense_1 (Dense)             (None, 1)                 9         \n",
            "                                                                 \n",
            "=================================================================\n",
            "Total params: 9,353\n",
            "Trainable params: 9,353\n",
            "Non-trainable params: 0\n",
            "_________________________________________________________________\n"
          ]
        }
      ]
    },
    {
      "cell_type": "code",
      "source": [
        "rmsprop = keras.optimizers.RMSprop(learning_rate=1e-4)\n",
        "model3.compile(optimizer=rmsprop, loss='binary_crossentropy',metrics=['accuracy'])\n",
        "\n",
        "checkpoint_cb = keras.callbacks.ModelCheckpoint('best-2rnn-model.h5',save_best_only=True)\n",
        "early_stopping_cb = keras.callbacks.EarlyStopping(patience=3,restore_best_weights=True)\n",
        "\n",
        "history = model3.fit(train_seq, train_target, epochs=100, batch_size=64, validation_data=(val_seq, val_target), callbacks=[checkpoint_cb, early_stopping_cb])"
      ],
      "metadata": {
        "colab": {
          "base_uri": "https://localhost:8080/"
        },
        "id": "bu7dHKt94kN9",
        "outputId": "ec79e054-d7a4-4084-9657-297c9ad33cdb"
      },
      "execution_count": 7,
      "outputs": [
        {
          "output_type": "stream",
          "name": "stdout",
          "text": [
            "Epoch 1/100\n",
            "313/313 [==============================] - 19s 45ms/step - loss: 0.6923 - accuracy: 0.5421 - val_loss: 0.6910 - val_accuracy: 0.6188\n",
            "Epoch 2/100\n",
            "313/313 [==============================] - 14s 45ms/step - loss: 0.6871 - accuracy: 0.6212 - val_loss: 0.6783 - val_accuracy: 0.6806\n",
            "Epoch 3/100\n",
            "313/313 [==============================] - 14s 44ms/step - loss: 0.6480 - accuracy: 0.6788 - val_loss: 0.6094 - val_accuracy: 0.7072\n",
            "Epoch 4/100\n",
            "313/313 [==============================] - 14s 44ms/step - loss: 0.5949 - accuracy: 0.7139 - val_loss: 0.5731 - val_accuracy: 0.7316\n",
            "Epoch 5/100\n",
            "313/313 [==============================] - 13s 43ms/step - loss: 0.5626 - accuracy: 0.7365 - val_loss: 0.5458 - val_accuracy: 0.7454\n",
            "Epoch 6/100\n",
            "313/313 [==============================] - 14s 43ms/step - loss: 0.5336 - accuracy: 0.7537 - val_loss: 0.5208 - val_accuracy: 0.7604\n",
            "Epoch 7/100\n",
            "313/313 [==============================] - 14s 44ms/step - loss: 0.5126 - accuracy: 0.7653 - val_loss: 0.5058 - val_accuracy: 0.7660\n",
            "Epoch 8/100\n",
            "313/313 [==============================] - 14s 46ms/step - loss: 0.5018 - accuracy: 0.7663 - val_loss: 0.4951 - val_accuracy: 0.7752\n",
            "Epoch 9/100\n",
            "313/313 [==============================] - 14s 44ms/step - loss: 0.4937 - accuracy: 0.7710 - val_loss: 0.4868 - val_accuracy: 0.7806\n",
            "Epoch 10/100\n",
            "313/313 [==============================] - 14s 44ms/step - loss: 0.4859 - accuracy: 0.7782 - val_loss: 0.4850 - val_accuracy: 0.7800\n",
            "Epoch 11/100\n",
            "313/313 [==============================] - 14s 43ms/step - loss: 0.4791 - accuracy: 0.7819 - val_loss: 0.4786 - val_accuracy: 0.7822\n",
            "Epoch 12/100\n",
            "313/313 [==============================] - 14s 43ms/step - loss: 0.4720 - accuracy: 0.7839 - val_loss: 0.4742 - val_accuracy: 0.7830\n",
            "Epoch 13/100\n",
            "313/313 [==============================] - 13s 42ms/step - loss: 0.4672 - accuracy: 0.7867 - val_loss: 0.4762 - val_accuracy: 0.7810\n",
            "Epoch 14/100\n",
            "313/313 [==============================] - 14s 44ms/step - loss: 0.4632 - accuracy: 0.7897 - val_loss: 0.4688 - val_accuracy: 0.7860\n",
            "Epoch 15/100\n",
            "313/313 [==============================] - 14s 43ms/step - loss: 0.4567 - accuracy: 0.7910 - val_loss: 0.4677 - val_accuracy: 0.7832\n",
            "Epoch 16/100\n",
            "313/313 [==============================] - 14s 43ms/step - loss: 0.4565 - accuracy: 0.7925 - val_loss: 0.4648 - val_accuracy: 0.7862\n",
            "Epoch 17/100\n",
            "313/313 [==============================] - 13s 43ms/step - loss: 0.4508 - accuracy: 0.7957 - val_loss: 0.4626 - val_accuracy: 0.7872\n",
            "Epoch 18/100\n",
            "313/313 [==============================] - 13s 42ms/step - loss: 0.4480 - accuracy: 0.7951 - val_loss: 0.4626 - val_accuracy: 0.7888\n",
            "Epoch 19/100\n",
            "313/313 [==============================] - 13s 42ms/step - loss: 0.4447 - accuracy: 0.7991 - val_loss: 0.4692 - val_accuracy: 0.7848\n",
            "Epoch 20/100\n",
            "313/313 [==============================] - 13s 42ms/step - loss: 0.4430 - accuracy: 0.7994 - val_loss: 0.4665 - val_accuracy: 0.7846\n"
          ]
        }
      ]
    },
    {
      "cell_type": "code",
      "source": [
        "plt.plot(history.history['loss'])\n",
        "plt.plot(history.history['val_loss'])\n",
        "plt.xlabel('epoch')\n",
        "plt.ylabel('loss')\n",
        "plt.legend(['train','val'])\n",
        "plt.show()"
      ],
      "metadata": {
        "colab": {
          "base_uri": "https://localhost:8080/",
          "height": 280
        },
        "id": "AFcOeFop4yAk",
        "outputId": "16039df5-cbb6-40a4-9e89-8838e35c9318"
      },
      "execution_count": 8,
      "outputs": [
        {
          "output_type": "display_data",
          "data": {
            "image/png": "[encoded data removed]",
            "text/plain": [
              "<Figure size 432x288 with 1 Axes>"
            ]
          },
          "metadata": {
            "needs_background": "light"
          }
        }
      ]
    },
    {
      "cell_type": "markdown",
      "source": [
        "##### GRU 신경망 훈련하기"
      ],
      "metadata": {
        "id": "7g1Kulkw2DN2"
      }
    },
    {
      "cell_type": "code",
      "source": [
        "model4 = keras.Sequential()\n",
        "\n",
        "model4.add(keras.layers.Embedding(500,16,input_length=100))\n",
        "model4.add(keras.layers.GRU(8))\n",
        "model4.add(keras.layers.Dense(1,activation='sigmoid'))\n",
        "\n",
        "model4.summary()"
      ],
      "metadata": {
        "colab": {
          "base_uri": "https://localhost:8080/"
        },
        "id": "HE3WjAc22F3p",
        "outputId": "db166a56-0674-47f4-c3f4-f07c7b4c14cf"
      },
      "execution_count": 10,
      "outputs": [
        {
          "output_type": "stream",
          "name": "stdout",
          "text": [
            "Model: \"sequential_2\"\n",
            "_________________________________________________________________\n",
            " Layer (type)                Output Shape              Param #   \n",
            "=================================================================\n",
            " embedding_2 (Embedding)     (None, 100, 16)           8000      \n",
            "                                                                 \n",
            " gru (GRU)                   (None, 8)                 624       \n",
            "                                                                 \n",
            " dense_2 (Dense)             (None, 1)                 9         \n",
            "                                                                 \n",
            "=================================================================\n",
            "Total params: 8,633\n",
            "Trainable params: 8,633\n",
            "Non-trainable params: 0\n",
            "_________________________________________________________________\n"
          ]
        }
      ]
    },
    {
      "cell_type": "code",
      "source": [
        "rmsprop = keras.optimizers.RMSprop(learning_rate=1e-4)\n",
        "model4.compile(optimizer=rmsprop, loss='binary_crossentropy', metrics=['accuracy'])\n",
        "\n",
        "checkpoint_cb = keras.callbacks.ModelCheckpoint('best-gru-model.h5')\n",
        "early_stopping_cb = keras.callbacks.EarlyStopping(patience=3, restore_best_weights=True)\n",
        "\n",
        "history = model4.fit(train_seq, train_target, epochs=100, batch_size=64, validation_data=(val_seq, val_target), callbacks=[checkpoint_cb, early_stopping_cb])"
      ],
      "metadata": {
        "colab": {
          "base_uri": "https://localhost:8080/"
        },
        "id": "u5UcDouy5ksP",
        "outputId": "b22bf390-7268-4c5c-957b-43b8f4371058"
      },
      "execution_count": 11,
      "outputs": [
        {
          "output_type": "stream",
          "name": "stdout",
          "text": [
            "Epoch 1/100\n",
            "313/313 [==============================] - 9s 22ms/step - loss: 0.6924 - accuracy: 0.5450 - val_loss: 0.6915 - val_accuracy: 0.5700\n",
            "Epoch 2/100\n",
            "313/313 [==============================] - 7s 21ms/step - loss: 0.6901 - accuracy: 0.5928 - val_loss: 0.6890 - val_accuracy: 0.6014\n",
            "Epoch 3/100\n",
            "313/313 [==============================] - 6s 21ms/step - loss: 0.6864 - accuracy: 0.6132 - val_loss: 0.6847 - val_accuracy: 0.6126\n",
            "Epoch 4/100\n",
            "313/313 [==============================] - 6s 21ms/step - loss: 0.6804 - accuracy: 0.6219 - val_loss: 0.6778 - val_accuracy: 0.6326\n",
            "Epoch 5/100\n",
            "313/313 [==============================] - 6s 21ms/step - loss: 0.6706 - accuracy: 0.6373 - val_loss: 0.6663 - val_accuracy: 0.6448\n",
            "Epoch 6/100\n",
            "313/313 [==============================] - 7s 21ms/step - loss: 0.6545 - accuracy: 0.6528 - val_loss: 0.6471 - val_accuracy: 0.6606\n",
            "Epoch 7/100\n",
            "313/313 [==============================] - 7s 21ms/step - loss: 0.6273 - accuracy: 0.6762 - val_loss: 0.6122 - val_accuracy: 0.6890\n",
            "Epoch 8/100\n",
            "313/313 [==============================] - 7s 21ms/step - loss: 0.5754 - accuracy: 0.7137 - val_loss: 0.5422 - val_accuracy: 0.7330\n",
            "Epoch 9/100\n",
            "313/313 [==============================] - 7s 21ms/step - loss: 0.5155 - accuracy: 0.7498 - val_loss: 0.5106 - val_accuracy: 0.7526\n",
            "Epoch 10/100\n",
            "313/313 [==============================] - 7s 21ms/step - loss: 0.4932 - accuracy: 0.7670 - val_loss: 0.4987 - val_accuracy: 0.7632\n",
            "Epoch 11/100\n",
            "313/313 [==============================] - 6s 21ms/step - loss: 0.4788 - accuracy: 0.7764 - val_loss: 0.4885 - val_accuracy: 0.7698\n",
            "Epoch 12/100\n",
            "313/313 [==============================] - 6s 21ms/step - loss: 0.4679 - accuracy: 0.7837 - val_loss: 0.4810 - val_accuracy: 0.7746\n",
            "Epoch 13/100\n",
            "313/313 [==============================] - 6s 21ms/step - loss: 0.4588 - accuracy: 0.7896 - val_loss: 0.4766 - val_accuracy: 0.7768\n",
            "Epoch 14/100\n",
            "313/313 [==============================] - 7s 21ms/step - loss: 0.4522 - accuracy: 0.7937 - val_loss: 0.4728 - val_accuracy: 0.7770\n",
            "Epoch 15/100\n",
            "313/313 [==============================] - 6s 21ms/step - loss: 0.4466 - accuracy: 0.7971 - val_loss: 0.4680 - val_accuracy: 0.7868\n",
            "Epoch 16/100\n",
            "313/313 [==============================] - 6s 21ms/step - loss: 0.4424 - accuracy: 0.7988 - val_loss: 0.4652 - val_accuracy: 0.7852\n",
            "Epoch 17/100\n",
            "313/313 [==============================] - 6s 20ms/step - loss: 0.4385 - accuracy: 0.8013 - val_loss: 0.4668 - val_accuracy: 0.7834\n",
            "Epoch 18/100\n",
            "313/313 [==============================] - 6s 20ms/step - loss: 0.4353 - accuracy: 0.8040 - val_loss: 0.4609 - val_accuracy: 0.7886\n",
            "Epoch 19/100\n",
            "313/313 [==============================] - 6s 20ms/step - loss: 0.4322 - accuracy: 0.8055 - val_loss: 0.4594 - val_accuracy: 0.7890\n",
            "Epoch 20/100\n",
            "313/313 [==============================] - 6s 20ms/step - loss: 0.4300 - accuracy: 0.8070 - val_loss: 0.4590 - val_accuracy: 0.7888\n",
            "Epoch 21/100\n",
            "313/313 [==============================] - 6s 21ms/step - loss: 0.4277 - accuracy: 0.8088 - val_loss: 0.4563 - val_accuracy: 0.7924\n",
            "Epoch 22/100\n",
            "313/313 [==============================] - 6s 20ms/step - loss: 0.4257 - accuracy: 0.8088 - val_loss: 0.4576 - val_accuracy: 0.7872\n",
            "Epoch 23/100\n",
            "313/313 [==============================] - 6s 21ms/step - loss: 0.4242 - accuracy: 0.8098 - val_loss: 0.4546 - val_accuracy: 0.7914\n",
            "Epoch 24/100\n",
            "313/313 [==============================] - 6s 20ms/step - loss: 0.4227 - accuracy: 0.8119 - val_loss: 0.4539 - val_accuracy: 0.7954\n",
            "Epoch 25/100\n",
            "313/313 [==============================] - 6s 21ms/step - loss: 0.4215 - accuracy: 0.8119 - val_loss: 0.4549 - val_accuracy: 0.7914\n",
            "Epoch 26/100\n",
            "313/313 [==============================] - 6s 21ms/step - loss: 0.4200 - accuracy: 0.8128 - val_loss: 0.4572 - val_accuracy: 0.7912\n",
            "Epoch 27/100\n",
            "313/313 [==============================] - 6s 21ms/step - loss: 0.4192 - accuracy: 0.8129 - val_loss: 0.4532 - val_accuracy: 0.7920\n",
            "Epoch 28/100\n",
            "313/313 [==============================] - 6s 21ms/step - loss: 0.4185 - accuracy: 0.8130 - val_loss: 0.4527 - val_accuracy: 0.7906\n",
            "Epoch 29/100\n",
            "313/313 [==============================] - 7s 21ms/step - loss: 0.4178 - accuracy: 0.8139 - val_loss: 0.4515 - val_accuracy: 0.7952\n",
            "Epoch 30/100\n",
            "313/313 [==============================] - 7s 21ms/step - loss: 0.4168 - accuracy: 0.8139 - val_loss: 0.4525 - val_accuracy: 0.7932\n",
            "Epoch 31/100\n",
            "313/313 [==============================] - 6s 20ms/step - loss: 0.4162 - accuracy: 0.8151 - val_loss: 0.4498 - val_accuracy: 0.7958\n",
            "Epoch 32/100\n",
            "313/313 [==============================] - 6s 21ms/step - loss: 0.4156 - accuracy: 0.8158 - val_loss: 0.4513 - val_accuracy: 0.7938\n",
            "Epoch 33/100\n",
            "313/313 [==============================] - 6s 21ms/step - loss: 0.4146 - accuracy: 0.8144 - val_loss: 0.4515 - val_accuracy: 0.7922\n",
            "Epoch 34/100\n",
            "313/313 [==============================] - 6s 21ms/step - loss: 0.4141 - accuracy: 0.8141 - val_loss: 0.4507 - val_accuracy: 0.7944\n"
          ]
        }
      ]
    },
    {
      "cell_type": "code",
      "source": [
        "plt.plot(history.history['loss'])\n",
        "plt.plot(history.history['val_loss'])\n",
        "plt.xlabel('epochs')\n",
        "plt.ylabel('loss')\n",
        "plt.legend(['train','val'])\n",
        "plt.show()"
      ],
      "metadata": {
        "colab": {
          "base_uri": "https://localhost:8080/",
          "height": 279
        },
        "id": "Hp3ojIMs6c2K",
        "outputId": "98fd8c7f-1468-4124-9dd8-87d504e9fb03"
      },
      "execution_count": 12,
      "outputs": [
        {
          "output_type": "display_data",
          "data": {
            "image/png": "[encoded data removed]",
            "text/plain": [
              "<Figure size 432x288 with 1 Axes>"
            ]
          },
          "metadata": {
            "needs_background": "light"
          }
        }
      ]
    },
    {
      "cell_type": "markdown",
      "source": [
        "##### 테스트 세트 성능 확인"
      ],
      "metadata": {
        "id": "L01Ibnl_6v3u"
      }
    },
    {
      "cell_type": "code",
      "source": [
        "test_seq = pad_sequences(test_input, maxlen=100)\n",
        "rnn_model = keras.models.load_model('best-2rnn-model.h5')\n",
        "rnn_model.evaluate(test_seq, test_target)"
      ],
      "metadata": {
        "colab": {
          "base_uri": "https://localhost:8080/"
        },
        "id": "GjTqhLMz60_F",
        "outputId": "45d42d4e-3879-40a5-b75b-038c471fd73b"
      },
      "execution_count": 13,
      "outputs": [
        {
          "output_type": "stream",
          "name": "stdout",
          "text": [
            "782/782 [==============================] - 13s 16ms/step - loss: 0.4535 - accuracy: 0.7873\n"
          ]
        },
        {
          "output_type": "execute_result",
          "data": {
            "text/plain": [
              "[0.4535239040851593, 0.7873200178146362]"
            ]
          },
          "metadata": {},
          "execution_count": 13
        }
      ]
    }
  ]
}